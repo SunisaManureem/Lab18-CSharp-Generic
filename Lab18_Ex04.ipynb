{
 "cells": [
  {
   "cell_type": "markdown",
   "metadata": {
    "polyglot_notebook": {
     "kernelName": "csharp"
    }
   },
   "source": [
    "# Lab 18 Exercise 4\n",
    "\n"
   ]
  },
  {
   "cell_type": "markdown",
   "metadata": {},
   "source": [
    "## Generic method\n",
    "\n"
   ]
  },
  {
   "cell_type": "markdown",
   "metadata": {},
   "source": [
    "1.สร้าง console application project\n",
    "\n",
    "```cmd\n",
    "dotnet new console --name Lab18_Ex04\n",
    "```\n",
    "\n"
   ]
  },
  {
   "cell_type": "markdown",
   "metadata": {},
   "source": [
    "2.เปลี่ยน code ให้เป็นดังต่อไปนี้\n",
    "\n",
    "```csharp\n",
    "// Generic method\n",
    "Generic.Print(10);\n",
    "Generic.Print(\"Hello World\");\n",
    "Generic.Print(12345.678);\n",
    "\n",
    "\n",
    "public static class Generic\n",
    "{\n",
    "    public static void Print <T> (T value)\n",
    "    {\n",
    "        System.Console.WriteLine(value);\n",
    "    }   \n",
    "}\n",
    "```\n",
    "\n"
   ]
  },
  {
   "cell_type": "markdown",
   "metadata": {},
   "source": [
    "3.Build project โดยการใช้คำสั่ง\n",
    "\n",
    "```cmd\n",
    "dotnet build  Lab18_Ex04\n",
    "```\n",
    "\n",
    "ถ้ามีที่ผิดพลาดในโปรแกรม ให้แก้ไขให้ถูกต้อง\n",
    "\n"
   ]
  },
  {
   "cell_type": "markdown",
   "metadata": {},
   "source": [
    "4.บันทึกผลที่ได้จากการรันคำสั่งในข้อ 3\n",
    "\n"
   ]
  },
  {
   "cell_type": "markdown",
   "metadata": {},
   "source": [
    "Restore complete (0.3s)\n",
    "  Lab18_Ex04 succeeded (0.6s) → Lab18_Ex04\\bin\\Debug\\net9.0\\Lab18_Ex04.dll\n",
    "\n",
    "Build succeeded in 1.5s"
   ]
  },
  {
   "cell_type": "markdown",
   "metadata": {},
   "source": [
    "5.Run project โดยการใช้คำสั่ง\n",
    "\n",
    "```cmd\n",
    "dotnet run --project Lab18_Ex04\n",
    "```\n",
    "\n"
   ]
  },
  {
   "cell_type": "markdown",
   "metadata": {},
   "source": [
    "6.บันทึกผลที่ได้จากการรันคำสั่งในข้อ 5\n",
    "\n"
   ]
  },
  {
   "cell_type": "markdown",
   "metadata": {},
   "source": [
    "10\n",
    "\n",
    "Hello World\n",
    "\n",
    "12345.678"
   ]
  },
  {
   "cell_type": "markdown",
   "metadata": {},
   "source": [
    "7.อธิบายสิ่งที่พบในการทดลอง\n"
   ]
  },
  {
   "cell_type": "markdown",
   "metadata": {},
   "source": [
    "จากการทดลองมีการใช้ Generic Method สร้าง static class ชื่อ Generic ที่มี static method ชื่อ Print ซึ่งรับพารามิเตอร์เพียงตัวเดียวคือ value ประเภท T (ซึ่งเป็น Generic Type) เมธอดนี้จะแสดงค่า\n",
    "value ออกทางคอนโซลโดยตรง การเรียกใช้งานแสดงความสามารถที่จะทำงานกับข้อมูลหลายประเภทได้โดยไม่ต้องระบุประเภทข้อมูลอย่างชัดเจน เมื่อเรียกใช้ Generic.Print(10) จะแสดงค่า 10, Generic.Print(\"Hello\n",
    "World\") จะแสดงข้อความ \"Hello World\" และ Generic.Print(12345.678) จะแสดงค่า 12345.678 ซึ่งแสดงให้เห็นว่าเมธอดเดียวสามารถทำงานได้กับข้อมูลทั้งประเภท int, string และ double โดยไม่ต้องเขียนซ้ำ"
   ]
  }
 ],
 "metadata": {
  "kernelspec": {
   "display_name": ".NET (C#)",
   "language": "C#",
   "name": ".net-csharp"
  },
  "polyglot_notebook": {
   "kernelInfo": {
    "defaultKernelName": "csharp",
    "items": [
     {
      "aliases": [],
      "languageName": "csharp",
      "name": "csharp"
     }
    ]
   }
  }
 },
 "nbformat": 4,
 "nbformat_minor": 2
}
