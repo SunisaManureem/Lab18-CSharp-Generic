{
 "cells": [
  {
   "cell_type": "markdown",
   "metadata": {
    "polyglot_notebook": {
     "kernelName": "csharp"
    }
   },
   "source": [
    "# Lab 18 Exercise 2"
   ]
  },
  {
   "cell_type": "markdown",
   "metadata": {},
   "source": [
    "## Generic"
   ]
  },
  {
   "cell_type": "markdown",
   "metadata": {},
   "source": [
    "1.สร้าง console application project\n",
    "\n",
    "```cmd\n",
    "dotnet new console --name Lab18_Ex02\n",
    "```"
   ]
  },
  {
   "cell_type": "markdown",
   "metadata": {},
   "source": [
    "2.เปลี่ยน code ให้เป็นดังต่อไปนี้\n",
    "\n",
    "```csharp\n",
    "var name  = new DataStore<string>();\n",
    "name.value =\"Name LName\";\n",
    "System.Console.WriteLine(name.value);\n",
    "\n",
    "var id = new DataStore<int>();\n",
    "id.value = 1234;\n",
    "System.Console.WriteLine(id.value);\n",
    "\n",
    "var gpa = new DataStore<float>();\n",
    "gpa.value = 3.45f;\n",
    "System.Console.WriteLine(gpa.value);  \n",
    "\n",
    "public class DataStore <T>\n",
    "{\n",
    "    private T data;\n",
    "    public T value\n",
    "    {\n",
    "        get { return this.data; }\n",
    "        set { this.data = value;}\n",
    "    }\n",
    "\n",
    "}\n",
    "```"
   ]
  },
  {
   "cell_type": "markdown",
   "metadata": {},
   "source": [
    "3.Build project โดยการใช้คำสั่ง\n",
    "\n",
    "```cmd\n",
    "dotnet build  Lab18_Ex02\n",
    "```\n",
    "\n",
    "ถ้ามีที่ผิดพลาดในโปรแกรม ให้แก้ไขให้ถูกต้อง"
   ]
  },
  {
   "cell_type": "markdown",
   "metadata": {},
   "source": [
    "Restore complete (0.2s)\n",
    "  Lab18_Ex02 succeeded with 1 warning(s) (0.5s) → Lab18_Ex02\\bin\\Debug\\net9.0\\Lab18_Ex02.dll\n",
    "    C:\\Users\\user\\Downloads\\Lab\\Lab18-CSharp-Generic\\Lab18_Ex02\\Program.cs(15,15): warning CS8618: Non-nullable field 'data' must contain a non-null value when exiting constructor. Consider adding the 'required' modifier or declaring the field as nullable.\n",
    "\n",
    "Build succeeded with 1 warning(s) in 1.2s"
   ]
  },
  {
   "cell_type": "markdown",
   "metadata": {},
   "source": [
    "4.บันทึกผลที่ได้จากการรันคำสั่งในข้อ 3"
   ]
  },
  {
   "cell_type": "markdown",
   "metadata": {},
   "source": [
    "5.Run project โดยการใช้คำสั่ง\n",
    "\n",
    "```cmd\n",
    "dotnet run --project Lab18_Ex02\n",
    "```"
   ]
  },
  {
   "cell_type": "markdown",
   "metadata": {},
   "source": [
    "6.บันทึกผลที่ได้จากการรันคำสั่งในข้อ 5"
   ]
  },
  {
   "cell_type": "markdown",
   "metadata": {},
   "source": [
    "Name LName\n",
    "\n",
    "1234\n",
    "\n",
    "3.45"
   ]
  },
  {
   "cell_type": "markdown",
   "metadata": {},
   "source": [
    "7.อธิบายสิ่งที่พบในการทดลอง"
   ]
  },
  {
   "cell_type": "markdown",
   "metadata": {},
   "source": [
    "Data ใน DataStore เป็น T ซึ่งอาจเป็น string (reference type) หรือ int (value type)\n",
    "\n",
    "C# แจ้งเตือนเพราะเมื่อ T เป็น string ตัวแปร Data ไม่มีค่าเริ่มต้น"
   ]
  }
 ],
 "metadata": {
  "kernelspec": {
   "display_name": ".NET (C#)",
   "language": "C#",
   "name": ".net-csharp"
  },
  "polyglot_notebook": {
   "kernelInfo": {
    "defaultKernelName": "csharp",
    "items": [
     {
      "aliases": [],
      "languageName": "csharp",
      "name": "csharp"
     }
    ]
   }
  }
 },
 "nbformat": 4,
 "nbformat_minor": 2
}
