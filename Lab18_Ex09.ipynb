{
 "cells": [
  {
   "cell_type": "markdown",
   "metadata": {
    "polyglot_notebook": {
     "kernelName": "csharp"
    }
   },
   "source": [
    "# Lab 18 Exercise 9\n",
    "\n"
   ]
  },
  {
   "cell_type": "markdown",
   "metadata": {},
   "source": [
    "## Generic queue\n",
    "\n"
   ]
  },
  {
   "cell_type": "markdown",
   "metadata": {},
   "source": [
    "1.สร้าง console application project\n",
    "\n",
    "```cmd\n",
    "dotnet new console --name Lab18_Ex09\n",
    "```\n",
    "\n"
   ]
  },
  {
   "cell_type": "markdown",
   "metadata": {},
   "source": [
    "2.เปลี่ยน code ให้เป็นดังต่อไปนี้\n",
    "\n",
    "```csharp\n",
    "using System;\n",
    "using System.Collections.Generic;\n",
    "\n",
    "Queue<string> planets = new Queue<string>();\n",
    "\n",
    "System.Console.WriteLine(\"Add planets (Mercury to Pluto)\");\n",
    "planets.Enqueue(\"Mercury\");\n",
    "planets.Enqueue(\"Venus\");\n",
    "planets.Enqueue(\"Earth\");\n",
    "planets.Enqueue(\"Mars\");\n",
    "planets.Enqueue(\"Jupiter\");\n",
    "planets.Enqueue(\"Saturn\");\n",
    "planets.Enqueue(\"Uranus\");\n",
    "planets.Enqueue(\"Neptune\");\n",
    "planets.Enqueue(\"Pluto\");\n",
    "\n",
    "System.Console.WriteLine(\"Items in queue:\");\n",
    "foreach (var item in planets)\n",
    "{\n",
    "    System.Console.WriteLine(item);\n",
    "}\n",
    "\n",
    "System.Console.Write(\"Remove first item in queue : \");\n",
    "var removeItem = planets.Dequeue();\n",
    "System.Console.WriteLine(removeItem);\n",
    "\n",
    "System.Console.WriteLine(\"Remaining items in queue:\");\n",
    "foreach (var item in planets)\n",
    "{\n",
    "    System.Console.WriteLine(item);\n",
    "}\n",
    "```\n",
    "\n"
   ]
  },
  {
   "cell_type": "markdown",
   "metadata": {},
   "source": [
    "3.Build project โดยการใช้คำสั่ง\n",
    "\n",
    "```cmd\n",
    "dotnet build  Lab18_Ex09\n",
    "```\n",
    "\n",
    "ถ้ามีที่ผิดพลาดในโปรแกรม ให้แก้ไขให้ถูกต้อง\n",
    "\n"
   ]
  },
  {
   "cell_type": "markdown",
   "metadata": {},
   "source": [
    "4.บันทึกผลที่ได้จากการรันคำสั่งในข้อ 3\n",
    "\n"
   ]
  },
  {
   "cell_type": "markdown",
   "metadata": {},
   "source": [
    "Restore complete (0.2s)\n",
    "  Lab18_Ex09 succeeded (0.5s) → Lab18_Ex09\\bin\\Debug\\net9.0\\Lab18_Ex09.dll\n",
    "\n",
    "Build succeeded in 1.1s"
   ]
  },
  {
   "cell_type": "markdown",
   "metadata": {},
   "source": [
    "5.Run project โดยการใช้คำสั่ง\n",
    "\n",
    "```cmd\n",
    "dotnet run --project Lab18_Ex09\n",
    "```\n",
    "\n"
   ]
  },
  {
   "cell_type": "markdown",
   "metadata": {},
   "source": [
    "6.บันทึกผลที่ได้จากการรันคำสั่งในข้อ 5\n",
    "\n"
   ]
  },
  {
   "cell_type": "markdown",
   "metadata": {},
   "source": [
    "Add planets (Mercury to Pluto)\n",
    "\n",
    "Items in queue:\n",
    "\n",
    "Mercury\n",
    "\n",
    "Venus\n",
    "\n",
    "Earth\n",
    "\n",
    "Mars\n",
    "\n",
    "Jupiter\n",
    "\n",
    "Saturn\n",
    "\n",
    "Uranus\n",
    "\n",
    "Neptune\n",
    "\n",
    "Pluto\n",
    "\n",
    "Remove first item in queue : Mercury\n",
    "\n",
    "Remaining items in queue:\n",
    "\n",
    "Venus\n",
    "\n",
    "Earth\n",
    "\n",
    "Mars\n",
    "\n",
    "Jupiter\n",
    "\n",
    "Saturn\n",
    "\n",
    "Uranus\n",
    "\n",
    "Neptune\n",
    "\n",
    "Pluto"
   ]
  },
  {
   "cell_type": "markdown",
   "metadata": {},
   "source": [
    "7.อธิบายสิ่งที่พบในการทดลอง\n"
   ]
  },
  {
   "cell_type": "markdown",
   "metadata": {},
   "source": [
    "จากการทดลองมีการใช้ Generic Collection ประเภท Queue กับข้อมูลประเภท string เพื่อเก็บชื่อดาวเคราะห์ในระบบสุริยะ โดยมีการสร้าง Queue ชื่อ planets และเพิ่มชื่อดาวเคราะห์ทั้ง 9 ดวง (รวม Pluto) เข้าไปในคิวตามลำดับจาก Mercury ถึง Pluto"
   ]
  }
 ],
 "metadata": {
  "kernelspec": {
   "display_name": ".NET (C#)",
   "language": "C#",
   "name": ".net-csharp"
  },
  "polyglot_notebook": {
   "kernelInfo": {
    "defaultKernelName": "csharp",
    "items": [
     {
      "aliases": [],
      "languageName": "csharp",
      "name": "csharp"
     }
    ]
   }
  }
 },
 "nbformat": 4,
 "nbformat_minor": 2
}
