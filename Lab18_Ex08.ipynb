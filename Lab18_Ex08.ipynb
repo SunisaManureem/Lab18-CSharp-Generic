{
 "cells": [
  {
   "cell_type": "markdown",
   "metadata": {
    "polyglot_notebook": {
     "kernelName": "csharp"
    }
   },
   "source": [
    "# Lab 18 Exercise 8\n",
    "\n"
   ]
  },
  {
   "cell_type": "markdown",
   "metadata": {},
   "source": [
    "## Generic queue\n",
    "\n"
   ]
  },
  {
   "cell_type": "markdown",
   "metadata": {},
   "source": [
    "1.สร้าง console application project\n",
    "\n",
    "```cmd\n",
    "dotnet new console --name Lab18_Ex08\n",
    "```\n",
    "\n"
   ]
  },
  {
   "cell_type": "markdown",
   "metadata": {},
   "source": [
    "2.เปลี่ยน code ให้เป็นดังต่อไปนี้\n",
    "\n",
    "```csharp\n",
    "using System;\n",
    "using System.Collections.Generic;\n",
    "\n",
    "Queue<int> numbers = new Queue<int>();\n",
    "\n",
    "System.Console.WriteLine(\"Add 3 elements (5, 10, 15)\");\n",
    "numbers.Enqueue(5); \n",
    "numbers.Enqueue(10); \n",
    "numbers.Enqueue(15);\n",
    "\n",
    "System.Console.WriteLine(\"Items in queue:\");\n",
    "foreach (var item in numbers)\n",
    "{\n",
    "    System.Console.WriteLine(item);\n",
    "}\n",
    "\n",
    "System.Console.Write(\"Remove first item in queue : \");\n",
    "var removeItem = numbers.Dequeue();\n",
    "System.Console.WriteLine(removeItem);\n",
    "\n",
    "System.Console.WriteLine(\"Remaining items in queue:\");\n",
    "foreach (var item in numbers)\n",
    "{\n",
    "    System.Console.WriteLine(item);\n",
    "}\n",
    "```\n",
    "\n"
   ]
  },
  {
   "cell_type": "markdown",
   "metadata": {},
   "source": [
    "3.Build project โดยการใช้คำสั่ง\n",
    "\n",
    "```cmd\n",
    "dotnet build  Lab18_Ex08\n",
    "```\n",
    "\n",
    "ถ้ามีที่ผิดพลาดในโปรแกรม ให้แก้ไขให้ถูกต้อง\n",
    "\n"
   ]
  },
  {
   "cell_type": "markdown",
   "metadata": {},
   "source": [
    "4.บันทึกผลที่ได้จากการรันคำสั่งในข้อ 3\n",
    "\n"
   ]
  },
  {
   "cell_type": "markdown",
   "metadata": {},
   "source": [
    "Restore complete (0.2s)\n",
    "  Lab18_Ex08 succeeded (0.5s) → Lab18_Ex08\\bin\\Debug\\net9.0\\Lab18_Ex08.dll\n",
    "\n",
    "Build succeeded in 1.1s"
   ]
  },
  {
   "cell_type": "markdown",
   "metadata": {},
   "source": [
    "5.Run project โดยการใช้คำสั่ง\n",
    "\n",
    "```cmd\n",
    "dotnet run --project Lab18_Ex08\n",
    "```\n",
    "\n"
   ]
  },
  {
   "cell_type": "markdown",
   "metadata": {},
   "source": [
    "6.บันทึกผลที่ได้จากการรันคำสั่งในข้อ 5\n",
    "\n"
   ]
  },
  {
   "cell_type": "markdown",
   "metadata": {},
   "source": [
    "Add 3 elements (5, 10, 15)\n",
    "\n",
    "Items in queue:\n",
    "\n",
    "5\n",
    "\n",
    "10\n",
    "\n",
    "15\n",
    "\n",
    "Remove first item in queue : 5\n",
    "\n",
    "Remaining items in queue:\n",
    "\n",
    "10\n",
    "\n",
    "15"
   ]
  },
  {
   "cell_type": "markdown",
   "metadata": {},
   "source": [
    "7.อธิบายสิ่งที่พบในการทดลอง\n"
   ]
  },
  {
   "cell_type": "markdown",
   "metadata": {},
   "source": [
    "จากการทดลองมีการใช้ Generic Collection ประเภท Queue (คิว) ซึ่งทำงานตามหลักการ FIFO (First In, First Out) โดยได้สร้าง Queue ชื่อ numbers เพื่อเก็บข้อมูลตัวเลขจำนวนเต็ม มีการเพิ่มข้อมูล 3 ตัวคือ 5, 10 และ 15 เข้าไปในคิวโดยใช้เมธอด\n",
    "Enqueue จากนั้นแสดงรายการทั้งหมดในคิวด้วย foreach loop ได้ผลลัพธ์เป็น 5, 10, 15 ตามลำดับการเพิ่มเข้าไป ต่อมามีการนำข้อมูลตัวแรกออกจากคิวด้วยเมธอด Dequeue ซึ่งจะได้ค่า 5 และแสดงผลข้อมูลที่เหลืออยู่ในคิวอีกครั้ง ได้ผลลัพธ์เป็น 10 และ 15 ตามลำดับ\n",
    "แสดงให้เห็นว่าข้อมูลที่เข้ามาก่อนจะถูกนำออกไปก่อน"
   ]
  }
 ],
 "metadata": {
  "kernelspec": {
   "display_name": ".NET (C#)",
   "language": "C#",
   "name": ".net-csharp"
  },
  "polyglot_notebook": {
   "kernelInfo": {
    "defaultKernelName": "csharp",
    "items": [
     {
      "aliases": [],
      "languageName": "csharp",
      "name": "csharp"
     }
    ]
   }
  }
 },
 "nbformat": 4,
 "nbformat_minor": 2
}
